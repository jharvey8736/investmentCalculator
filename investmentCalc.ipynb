{
 "cells": [
  {
   "cell_type": "code",
   "execution_count": 4,
   "metadata": {},
   "outputs": [
    {
     "name": "stdout",
     "output_type": "stream",
     "text": [
      "How much money do you have invested?\n"
     ]
    },
    {
     "name": "stdin",
     "output_type": "stream",
     "text": [
      " 20000\n"
     ]
    },
    {
     "name": "stdout",
     "output_type": "stream",
     "text": [
      "How much will you invest per month?\n"
     ]
    },
    {
     "name": "stdin",
     "output_type": "stream",
     "text": [
      " 3500\n"
     ]
    },
    {
     "name": "stdout",
     "output_type": "stream",
     "text": [
      "Enter number of years\n"
     ]
    },
    {
     "name": "stdin",
     "output_type": "stream",
     "text": [
      " 20\n"
     ]
    },
    {
     "name": "stdout",
     "output_type": "stream",
     "text": [
      "In 10 years, you will have an estimated  $1,317,268  in today's dollars\n"
     ]
    }
   ],
   "source": [
    "#assumes 4% real returns\n",
    "\n",
    "def getNetWorth(monthlyAmt, years, startingSum) -> int:\n",
    "    netWorth = startingSum\n",
    "    for year in range(years):\n",
    "        for month in range(12):\n",
    "            netWorth *= (1.04) ** (1 / 12)\n",
    "            netWorth += monthlyAmt\n",
    "    return int(netWorth)\n",
    "\n",
    "def formatAmt(amount) -> str:\n",
    "    return \"${:,.0f}\".format(amount)\n",
    "\n",
    "print(\"How much money do you have invested?\")\n",
    "start = int(input())\n",
    "print(\"How much will you invest per month?\")\n",
    "monthlyAmt = int(input())\n",
    "print(\"Enter number of years\")\n",
    "years = int(input())\n",
    "\n",
    "print(\"In ", years, " years, you will have an estimated \", formatAmt(getNetWorth(monthlyAmt, years, start)), \" in today's dollars\")"
   ]
  },
  {
   "cell_type": "code",
   "execution_count": null,
   "metadata": {},
   "outputs": [],
   "source": []
  }
 ],
 "metadata": {
  "kernelspec": {
   "display_name": "Python 3",
   "language": "python",
   "name": "python3"
  },
  "language_info": {
   "codemirror_mode": {
    "name": "ipython",
    "version": 3
   },
   "file_extension": ".py",
   "mimetype": "text/x-python",
   "name": "python",
   "nbconvert_exporter": "python",
   "pygments_lexer": "ipython3",
   "version": "3.8.3"
  }
 },
 "nbformat": 4,
 "nbformat_minor": 4
}
